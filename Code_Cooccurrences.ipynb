{
 "cells": [
  {
   "cell_type": "code",
   "execution_count": 1,
   "id": "9f5bb252-7cfa-4ecc-8577-90dc0ccab7a5",
   "metadata": {},
   "outputs": [],
   "source": [
    "import itertools\n",
    "import os"
   ]
  },
  {
   "cell_type": "code",
   "execution_count": 2,
   "id": "2af54d1e",
   "metadata": {},
   "outputs": [
    {
     "name": "stdout",
     "output_type": "stream",
     "text": [
      "current dir:  /Users/margotpascual/Documents/MemoireM1\n",
      "try open file:  Defoe_Robinson.txt\n"
     ]
    },
    {
     "data": {
      "text/plain": [
       "'\\ufeffDaniel de Foë  Robinson Crusoé  BeQ  Daniel de Foë  Robinson Crusoé Traduction de Pétrus Borel  I  La Bibliothèque électronique du Québec Collection À tous les vents Volume 536 : version 1.0 2  Du même auteur, à la Bibliothèque : Moll Flanders  3  Robinson Crusoé I Édition de référence : Paris, Francisque Borel et Alexandre Varenne, Éditeurs, 1836. Image de couverture : The Life and Strange Surprising Adventures of Robinson Crusoe. London : Ernest Nister ; New York : E. P. Dutton & Co., 1895. Illustrated by Joseph Finnemore (1860-1939), with G. H. Thompson (fl. 1833-84) and Archibald Webb (1870- ?).  4  Préface Le traducteur de ce livre n’est point un traducteur, c’est tout bonnement un poète qui s’est pris de belle passion et de courage. Une des plus belles créations du génie anglais courait depuis un siècle par les rues avec des haillons sur le corps, de la boue sur la face et de la paille dans les cheveux ; il a cru, dans son orgueil, que mission lui était donnée d’arrêter cette tr'"
      ]
     },
     "execution_count": 2,
     "metadata": {},
     "output_type": "execute_result"
    }
   ],
   "source": [
    "#script pour ouvrir le texte: ici, on utilise Robinson Crusoé\n",
    "\n",
    "print(\"current dir: \", os.getcwd())\n",
    "\n",
    "for file in os.listdir():\n",
    "    \n",
    "    if file.endswith('.txt'):\n",
    "        print('try open file: ',file)\n",
    "        \n",
    "        with open(file, 'r') as f:\n",
    "            \n",
    "            text = ' '.join(f.read().splitlines())\n",
    "text[0:1000] "
   ]
  },
  {
   "cell_type": "code",
   "execution_count": 3,
   "id": "e4ab9a0c",
   "metadata": {},
   "outputs": [],
   "source": [
    "#script de co-occurrences\n",
    "\n",
    "def get_cooccur(text, words2find):\n",
    "    text = text.split() \n",
    "\n",
    "# divise le text en valeur n de 1000 mots\n",
    "    n = 1000\n",
    "    all_parts = [' '.join(text[i:i+n]) for i in range(0,len(text),n)]\n",
    "\n",
    "    \n",
    "#calcule la co-occurrence des noms\n",
    "    res = []\n",
    "    for part in all_parts:\n",
    "        res_part = []\n",
    "\n",
    "        for word in words2find:\n",
    "\n",
    "            if word in part:\n",
    "                res_part.append(word)\n",
    "\n",
    "        res.append(res_part)   \n",
    "\n",
    "    \n",
    "\n",
    "    unique_names = set(itertools.chain.from_iterable(res))\n",
    "\n",
    " \n",
    "    all_pairs = list(itertools.combinations(unique_names, 2))\n",
    "\n",
    "#on met les noms et paires sous un dictionnaire \n",
    "    result = {pair: len([x for x in res if set(pair) <= set(x)]) for pair in all_pairs}\n",
    "\n",
    "#retourne le résultat\n",
    "    return result\n"
   ]
  },
  {
   "cell_type": "code",
   "execution_count": 4,
   "id": "f916547c",
   "metadata": {},
   "outputs": [
    {
     "data": {
      "text/plain": [
       "{('Vendredi', 'Je'): 43}"
      ]
     },
     "execution_count": 4,
     "metadata": {},
     "output_type": "execute_result"
    }
   ],
   "source": [
    "words2find = [\"Je\", \"Vendredi\"]\n",
    "occur = get_cooccur(text, words2find)\n",
    "occur"
   ]
  }
 ],
 "metadata": {
  "kernelspec": {
   "display_name": "Python 3 (ipykernel)",
   "language": "python",
   "name": "python3"
  },
  "language_info": {
   "codemirror_mode": {
    "name": "ipython",
    "version": 3
   },
   "file_extension": ".py",
   "mimetype": "text/x-python",
   "name": "python",
   "nbconvert_exporter": "python",
   "pygments_lexer": "ipython3",
   "version": "3.9.7"
  }
 },
 "nbformat": 4,
 "nbformat_minor": 5
}
