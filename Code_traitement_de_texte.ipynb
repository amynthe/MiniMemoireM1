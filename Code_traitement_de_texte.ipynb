{
 "cells": [
  {
   "cell_type": "markdown",
   "id": "0f0f39cc",
   "metadata": {},
   "source": [
    "    #Lemmatisation:\n",
    "\n",
    "sur bash:\n",
    "    for i in *.txt ; do pie-extended tag fr $i ; done"
   ]
  },
  {
   "cell_type": "code",
   "execution_count": null,
   "id": "74126715",
   "metadata": {},
   "outputs": [],
   "source": [
    "#Traitement pour les textes PDF:\n",
    "\n",
    "import pdftotext\n",
    "\n",
    "with open(\"nomdufichier.pdf\", \"r\") as f:\n",
    "    pdf = pdftotext.PDF(f)\n",
    "    with open(\"nomdufichier.txt\", \"w\") as f:\n",
    "        f.write(\"\\n\\n\".join(pdf))\n",
    "\n",
    "#Traitement pour les textes Epub:\n",
    "\n",
    "import ebooklib\n",
    "from ebooklib import epub\n",
    "\n",
    "book = epub.read_epub(\"nomdufichier.epub\")\n",
    "\n",
    "for doc in book.get_items_of_type(ebooklib.ITEM_DOCUMENT):\n",
    "    print(doc)\n",
    "    \n",
    "#Merge all txt files together:\n",
    "\n",
    "import aspose.words as aw\n",
    "\n",
    "nomFichiers = [ \"partie1.docx\", \"partie2.docx\",.... ]\n",
    "\n",
    "output = aw.Document()\n",
    "# Remove all content from the destination document before appending.\n",
    "output.remove_all_children()\n",
    "\n",
    "for nomFichier in nomFichiers:\n",
    "    input = aw.Document(nomFichier)\n",
    "    # Append the source document to the end of the destination document.\n",
    "    output.append_document(input, aw.ImportFormatMode.KEEP_SOURCE_FORMATTING)\n",
    "\n",
    "output.save(\"toutesparties.pdf\");\n",
    "    \n",
    "#Traitement pour les textes sur le web:\n",
    "\n",
    "from urllib.request import urlopen\n",
    "from bs4 import BeautifulSoup\n",
    "\n",
    "liste=range(1,11)\n",
    "url_ = \"http://remacle.org/bloodwolf/roman/heliodore/livre\"\n",
    "for elem in liste:\n",
    "    print(elem)\n",
    "    url = url_+str(elem)+\".htm\"\n",
    "    \n",
    "    html = urlopen(url).read()\n",
    "    soup = BeautifulSoup(html, features=\"html.parser\")\n",
    "\n",
    "    for script in soup([\"script\", \"style\"]):\n",
    "        script.extract()\n",
    "    text = soup.get_text()\n",
    "\n",
    "    lines = (line.strip() for line in text.splitlines())\n",
    "\n",
    "    chunks = (phrase.strip() for line in lines for phrase in line.split(\"  \"))\n",
    "\n",
    "    heliodore = '\\n'.join(chunk for chunk in chunks if chunk)\n",
    "\n",
    "\n",
    "    with open('heliodore.txt', 'a', encoding='utf-8') as f:\n",
    "        f.write(heliodore)"
   ]
  }
 ],
 "metadata": {
  "kernelspec": {
   "display_name": "Python 3 (ipykernel)",
   "language": "python",
   "name": "python3"
  },
  "language_info": {
   "codemirror_mode": {
    "name": "ipython",
    "version": 3
   },
   "file_extension": ".py",
   "mimetype": "text/x-python",
   "name": "python",
   "nbconvert_exporter": "python",
   "pygments_lexer": "ipython3",
   "version": "3.9.7"
  }
 },
 "nbformat": 4,
 "nbformat_minor": 5
}
